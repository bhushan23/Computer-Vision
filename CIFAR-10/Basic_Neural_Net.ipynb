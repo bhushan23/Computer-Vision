{
 "cells": [
  {
   "cell_type": "code",
   "execution_count": 1,
   "metadata": {},
   "outputs": [],
   "source": [
    "import torch\n",
    "import torchvision\n",
    "import torchvision.transforms as transforms\n",
    "import matplotlib.pyplot as plt\n",
    "import numpy as np\n",
    "from torch.autograd import Variable\n",
    "import torch.nn as nn\n",
    "import torch.nn.functional as Functional\n",
    "import torch.optim as optim\n",
    "%matplotlib inline"
   ]
  },
  {
   "cell_type": "code",
   "execution_count": 15,
   "metadata": {},
   "outputs": [],
   "source": [
    "# Use to dump debug info\n",
    "debugOffline = False \n",
    "# IsCuda Available\n",
    "IsCuda = torch.cuda.is_available()"
   ]
  },
  {
   "cell_type": "code",
   "execution_count": 3,
   "metadata": {},
   "outputs": [],
   "source": [
    "# Collect data to plot graphs at end\n",
    "# trainLossLog = []\n",
    "print IsCuda"
   ]
  },
  {
   "cell_type": "code",
   "execution_count": 5,
   "metadata": {},
   "outputs": [
    {
     "name": "stdout",
     "output_type": "stream",
     "text": [
      "Files already downloaded and verified\n",
      "Files already downloaded and verified\n"
     ]
    }
   ],
   "source": [
    "transform = transforms.Compose(\n",
    "    [transforms.ToTensor(),\n",
    "     transforms.Normalize((0.5, 0.5, 0.5), (0.5, 0.5, 0.5))])\n",
    "\n",
    "trainset = torchvision.datasets.CIFAR10(root = './data', train = True,\n",
    "                                       download = True, transform = transform)\n",
    "\n",
    "trainloader = torch.utils.data.DataLoader(trainset, batch_size=4, shuffle=True, num_workers=2)\n",
    "\n",
    "testset = torchvision.datasets.CIFAR10(root = './data', train = False,\n",
    "                                       download = True, transform = transform)\n",
    "\n",
    "testloader = torch.utils.data.DataLoader(trainset, batch_size=4, shuffle=False, num_workers=2)\n",
    "\n",
    "classes = ('plane', 'car', 'bird', 'cat',\n",
    "           'deer', 'dog', 'frog', 'horse', 'ship', 'truck')"
   ]
  },
  {
   "cell_type": "code",
   "execution_count": 6,
   "metadata": {},
   "outputs": [
    {
     "name": "stdout",
     "output_type": "stream",
     "text": [
      "  car plane  ship truck\n"
     ]
    },
    {
     "data": {
      "image/png": "[encoded data removed]",
      "text/plain": [
       "<matplotlib.figure.Figure at 0x7f16b4a82fd0>"
      ]
     },
     "metadata": {},
     "output_type": "display_data"
    }
   ],
   "source": [
    "def imShow(img):\n",
    "    # Denormalize\n",
    "    img = img / 2 + 0.5\n",
    "    npImg = img.numpy()\n",
    "    plt.imshow(np.transpose(npImg, (1, 2, 0)))\n",
    "    \n",
    "# Get some random training images\n",
    "dataIter = iter(trainloader)\n",
    "images, labels = dataIter.next()\n",
    "\n",
    "# Show Images\n",
    "imShow(torchvision.utils.make_grid(images))\n",
    "\n",
    "# Print Labels\n",
    "print ' '.join('%5s' % classes[labels[j]] for j in range(4))"
   ]
  },
  {
   "cell_type": "code",
   "execution_count": 7,
   "metadata": {},
   "outputs": [
    {
     "name": "stdout",
     "output_type": "stream",
     "text": [
      "Net(\n",
      "  (conv1): Conv2d (3, 6, kernel_size=(5, 5), stride=(1, 1))\n",
      "  (pool): MaxPool2d(kernel_size=(2, 2), stride=(2, 2), dilation=(1, 1))\n",
      "  (conv2): Conv2d (6, 16, kernel_size=(5, 5), stride=(1, 1))\n",
      "  (fc1): Linear(in_features=400, out_features=120)\n",
      "  (fc2): Linear(in_features=120, out_features=84)\n",
      "  (fc3): Linear(in_features=84, out_features=10)\n",
      ")\n"
     ]
    }
   ],
   "source": [
    "# Define CNN\n",
    "class Net(nn.Module):\n",
    "    def __init__(self):\n",
    "        super(Net, self).__init__()\n",
    "        self.conv1 = nn.Conv2d(3, 6, 5)\n",
    "        self.pool = nn.MaxPool2d(2, 2)\n",
    "        self.conv2 = nn.Conv2d(6, 16, 5)\n",
    "        self.fc1 = nn.Linear(16*5*5, 120)\n",
    "        self.fc2 = nn.Linear(120, 84)\n",
    "        self.fc3 = nn.Linear(84, 10)\n",
    "        \n",
    "    def forward(self, x):\n",
    "        x = self.pool(Functional.relu(self.conv1(x)))\n",
    "        x = self.pool(Functional.relu(self.conv2(x)))\n",
    "        x = x.view(-1, 16*5*5)\n",
    "        x = Functional.relu(self.fc1(x))\n",
    "        x = Functional.relu(self.fc2(x))\n",
    "        x = self.fc3(x)\n",
    "        return x\n",
    "\n",
    "\n",
    "net = Net()\n",
    "print(net)"
   ]
  },
  {
   "cell_type": "code",
   "execution_count": 8,
   "metadata": {},
   "outputs": [],
   "source": [
    "# Define Loss Function and Optimizer\n",
    "# Will be using Stochastic Gradient Descent \n",
    "criterion = nn.CrossEntropyLoss()\n",
    "optimizer = optim.SGD(net.parameters(), lr = 0.001, momentum = 0.9)"
   ]
  },
  {
   "cell_type": "code",
   "execution_count": 9,
   "metadata": {},
   "outputs": [],
   "source": [
    "# Train the network\n",
    "def Train(epochs = 2):\n",
    "    trainLoss = [0] * epochs\n",
    "    for epoch in range(epochs):\n",
    "        running_loss = 0.0\n",
    "        for i, data in enumerate(trainloader, 0):\n",
    "            # Get the inputs\n",
    "            inputs, labels = data\n",
    "\n",
    "            # Wrap in Variables\n",
    "            inputs, labels = Variable(inputs), Variable(labels)\n",
    "\n",
    "            # Zero the parameter gradients\n",
    "            optimizer.zero_grad()\n",
    "\n",
    "            # Forward + Backward + Optimize\n",
    "            outputs = net(inputs)\n",
    "            loss = criterion(outputs, labels)\n",
    "            loss.backward()\n",
    "            optimizer.step()\n",
    "\n",
    "            # Stats\n",
    "            running_loss += loss.data[0]\n",
    "            if i % 2000 == 1999: \n",
    "                # Print every 2000th mini-batches\n",
    "                print '[%d, %5d] loss: %.3f' % (epoch + 1, i + 1, running_loss / 2000)\n",
    "                trainLoss[epoch-1] = running_loss / 2000 \n",
    "                running_loss = 0.0\n",
    "    # Copy log into global log\n",
    "    # trainLossLog = trainLoss\n",
    "    print 'Training Done!'"
   ]
  },
  {
   "cell_type": "code",
   "execution_count": 10,
   "metadata": {},
   "outputs": [],
   "source": [
    "# Test the network\n",
    "if (debugOffline):\n",
    "    dataiter = iter(testloader)\n",
    "    images, labels = dataiter.next()\n",
    "\n",
    "    # Print images\n",
    "    imShow(torchvision.utils.make_grid(images))\n",
    "    print 'Ground truth: ', ' '.join('%5s'%classes[labels[j]] for j in range(4))\n",
    "    \n",
    "    outputs = net(Variable(images))\n",
    "    _, predicted = torch.max(outputs.data, 1)\n",
    "    print 'Predicted: ', ' '.join('%5s'% classes[labels[j]] for j in range(4))"
   ]
  },
  {
   "cell_type": "code",
   "execution_count": 11,
   "metadata": {},
   "outputs": [],
   "source": [
    "# Accuracy over whole dataset\n",
    "def TestAll():\n",
    "    correct = 0\n",
    "    total = 0\n",
    "    # Class wise accuracy\n",
    "    class_correct = list(0. for i in range(10))\n",
    "    class_total = list(0. for i in range(10))\n",
    "    for data in testloader:\n",
    "        images, labels = data\n",
    "        outputs = net(Variable(images))\n",
    "        _, predicted = torch.max(outputs.data, 1)\n",
    "        total += labels.size(0)\n",
    "        correct += (predicted == labels).sum()\n",
    "        c = (predicted == labels).squeeze()\n",
    "        for i in range(4):\n",
    "            label = labels[i]\n",
    "            class_correct[label] += c[i]\n",
    "            class_total[label] += 1\n",
    "\n",
    "    print 'Accuracy of the network on the 10000 test images: %d %%' % (100 * correct / total)\n",
    "    for i in range(10):\n",
    "        print 'Accuracy of %5s: %2d%%' % (classes[i], 100 * class_correct[i] / class_total[i])"
   ]
  },
  {
   "cell_type": "code",
   "execution_count": 12,
   "metadata": {},
   "outputs": [],
   "source": [
    "def TrainAndTest(epochs):\n",
    "    print '==Training for epochs: ', epochs\n",
    "    Train(epochs)\n",
    "    print '==Testing for epochs: ', epochs\n",
    "    TestAll()"
   ]
  },
  {
   "cell_type": "code",
   "execution_count": 13,
   "metadata": {},
   "outputs": [
    {
     "name": "stdout",
     "output_type": "stream",
     "text": [
      "==Training for epochs:  2\n",
      "[1,  2000] loss: 2.268\n",
      "[1,  4000] loss: 1.912\n",
      "[1,  6000] loss: 1.695\n",
      "[1,  8000] loss: 1.581\n",
      "[1, 10000] loss: 1.509\n",
      "[1, 12000] loss: 1.466\n",
      "[2,  2000] loss: 1.393\n",
      "[2,  4000] loss: 1.358\n",
      "[2,  6000] loss: 1.325\n",
      "[2,  8000] loss: 1.304\n",
      "[2, 10000] loss: 1.272\n",
      "[2, 12000] loss: 1.266\n",
      "Training Done!\n",
      "==Testing for epochs:  2\n",
      "Accuracy of the network on the 10000 test images: 56 %\n",
      "Accuracy of plane: 73%\n",
      "Accuracy of   car: 84%\n",
      "Accuracy of  bird: 46%\n",
      "Accuracy of   cat: 30%\n",
      "Accuracy of  deer: 55%\n",
      "Accuracy of   dog: 55%\n",
      "Accuracy of  frog: 65%\n",
      "Accuracy of horse: 56%\n",
      "Accuracy of  ship: 58%\n",
      "Accuracy of truck: 40%\n"
     ]
    }
   ],
   "source": [
    "TrainAndTest(2)"
   ]
  },
  {
   "cell_type": "code",
   "execution_count": 14,
   "metadata": {},
   "outputs": [
    {
     "name": "stdout",
     "output_type": "stream",
     "text": [
      "==Training for epochs:  2\n",
      "[1,  2000] loss: 1.191\n",
      "[1,  4000] loss: 1.204\n",
      "[1,  6000] loss: 1.181\n",
      "[1,  8000] loss: 1.192\n",
      "[1, 10000] loss: 1.154\n",
      "[1, 12000] loss: 1.176\n",
      "[2,  2000] loss: 1.092\n",
      "[2,  4000] loss: 1.085\n",
      "[2,  6000] loss: 1.074\n",
      "[2,  8000] loss: 1.098\n",
      "[2, 10000] loss: 1.093\n",
      "[2, 12000] loss: 1.072\n",
      "Training Done!\n",
      "==Testing for epochs:  2\n",
      "Accuracy of the network on the 10000 test images: 66 %\n",
      "Accuracy of plane: 69%\n",
      "Accuracy of   car: 78%\n",
      "Accuracy of  bird: 62%\n",
      "Accuracy of   cat: 40%\n",
      "Accuracy of  deer: 53%\n",
      "Accuracy of   dog: 63%\n",
      "Accuracy of  frog: 74%\n",
      "Accuracy of horse: 69%\n",
      "Accuracy of  ship: 71%\n",
      "Accuracy of truck: 80%\n"
     ]
    }
   ],
   "source": [
    "# Epoch 4\n",
    "TrainAndTest(2)"
   ]
  },
  {
   "cell_type": "code",
   "execution_count": null,
   "metadata": {},
   "outputs": [],
   "source": []
  }
 ],
 "metadata": {
  "kernelspec": {
   "display_name": "Python 2",
   "language": "python",
   "name": "python2"
  },
  "language_info": {
   "codemirror_mode": {
    "name": "ipython",
    "version": 2
   },
   "file_extension": ".py",
   "mimetype": "text/x-python",
   "name": "python",
   "nbconvert_exporter": "python",
   "pygments_lexer": "ipython2",
   "version": "2.7.14"
  }
 },
 "nbformat": 4,
 "nbformat_minor": 2
}
