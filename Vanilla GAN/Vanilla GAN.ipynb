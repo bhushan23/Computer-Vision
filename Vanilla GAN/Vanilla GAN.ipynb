{
 "cells": [
  {
   "cell_type": "code",
   "execution_count": 34,
   "metadata": {},
   "outputs": [],
   "source": [
    "import torch\n",
    "import torch.nn as nn\n",
    "import torch.nn.functional as F\n",
    "from torch.autograd import Variable\n",
    "from torchvision import datasets\n",
    "from torchvision import transforms\n",
    "import torchvision\n",
    "import os\n",
    "import numpy as np\n",
    "import matplotlib.pyplot as plt\n",
    "import torchvision.utils as tutils\n",
    "import imageio\n",
    "import pickle"
   ]
  },
  {
   "cell_type": "code",
   "execution_count": 35,
   "metadata": {},
   "outputs": [],
   "source": [
    "# Options being used \n",
    "batch_size = 100\n",
    "imgDim = 28\n",
    "path = './genImg/'\n",
    "showPlot = False\n",
    "savePlot = True\n",
    "num_epochs = 200\n",
    "IS_CUDA = False\n",
    "\n",
    "transform = transforms.Compose([\n",
    "                transforms.ToTensor(),\n",
    "                transforms.Normalize(mean=(0.5, 0.5, 0.5), \n",
    "                                     std=(0.5, 0.5, 0.5))])"
   ]
  },
  {
   "cell_type": "code",
   "execution_count": 36,
   "metadata": {},
   "outputs": [],
   "source": [
    "# MNIST dataset\n",
    "dataset = datasets.MNIST(root='./data',\n",
    "                         train=True,\n",
    "                         transform=transform,\n",
    "                         download=True)\n",
    "# Data loader\n",
    "data_loader = torch.utils.data.DataLoader(dataset=dataset,\n",
    "                                          batch_size=batch_size, \n",
    "                                          shuffle=True)\n"
   ]
  },
  {
   "cell_type": "code",
   "execution_count": 85,
   "metadata": {},
   "outputs": [],
   "source": [
    "# Helper routines\n",
    "if torch.cuda.is_available():\n",
    "    IS_CUDA = True\n",
    "    \n",
    "def var(x):\n",
    "    if IS_CUDA:\n",
    "        x = x.cuda()\n",
    "    return Variable(x)\n",
    "\n",
    "def show(img):\n",
    "    npimg = img.numpy()\n",
    "    plt.imshow(np.transpose(npimg, (1,2,0)), interpolation='nearest')\n",
    "    \n",
    "def denorm(x):\n",
    "    out = (x + 1) / 2\n",
    "    return out.clamp(0, 1)\n",
    "\n",
    "def generate_animation(root, epoch, name):\n",
    "    images = []\n",
    "    for e in range(epoch):\n",
    "        img_name = root+'/image_'+str(e)+'.png'\n",
    "        images.append(imageio.imread(img_name))\n",
    "    imageio.mimsave(root+ '/' + name +'.gif', images, fps=5)\n",
    "\n",
    "def drawLossPlot(generatorLoss, discriminatorLoss, showPlot = False, savePlot = True, loc = \"./\"):\n",
    "    plt.xlabel('Iterations')\n",
    "    plt.ylabel('Loss')\n",
    "    plt.title('Vanilla GAN Loss')\n",
    "    plt.plot(generatorLoss, label='Generator Loss')\n",
    "    plt.plot(discriminatorLoss, label='Discriminator Loss')\n",
    "    legend = plt.legend(loc='upper right', shadow=True)\n",
    "    \n",
    "    if showPlot:\n",
    "        plt.show()\n",
    "    if savePlot:\n",
    "        plt.savefig(loc+'Loss_Plot_Vanilla_GAN_'+str(num_epochs)+'.png')\n",
    "\n",
    "def save_image(pic, path):\n",
    "    grid = torchvision.utils.make_grid(pic, nrow=8, padding=2)\n",
    "    ndarr = grid.mul(255).clamp(0, 255).byte().permute(1, 2, 0).cpu().numpy()\n",
    "    im = Image.fromarray(ndarr)\n",
    "    im.save(path)\n",
    "\n",
    "class LossModule: \n",
    "    def __init__(self):\n",
    "        self.D_loss = []\n",
    "        self.G_loss = []\n",
    "\n",
    "    def insertDiscriminatorLoss(self, lossVal):\n",
    "        self.D_loss.append(lossVal)\n",
    "    \n",
    "    def insertGeneratorLoss(self, lossVal):\n",
    "        self.G_loss.append(lossVal)\n",
    "    \n",
    "    def getDiscriminatorLoss(self):\n",
    "        return self.D_loss\n",
    "    \n",
    "    def getGeneratorLoss(self):\n",
    "        return self.G_loss\n",
    "    "
   ]
  },
  {
   "cell_type": "code",
   "execution_count": 47,
   "metadata": {},
   "outputs": [],
   "source": [
    "# Network\n",
    "Generator_input = 64\n",
    "Generator = nn.Sequential(\n",
    "        nn.Linear(Generator_input, 256),\n",
    "        nn.LeakyReLU(0.2),\n",
    "        nn.Linear(256, 256),\n",
    "        nn.LeakyReLU(0.2),\n",
    "        nn.Linear(256, 784),\n",
    "        nn.Tanh())\n",
    "\n",
    "Discriminator = nn.Sequential(\n",
    "        nn.Linear(784, 256),\n",
    "        nn.LeakyReLU(0.2),\n",
    "        nn.Linear(256, 256),\n",
    "        nn.LeakyReLU(0.2),\n",
    "        nn.Linear(256,1),\n",
    "        nn.Sigmoid())\n",
    "\n",
    "if IS_CUDA:\n",
    "    Discriminator.cuda()\n",
    "    Generator.cuda()"
   ]
  },
  {
   "cell_type": "code",
   "execution_count": 48,
   "metadata": {},
   "outputs": [],
   "source": [
    "lossCriterion = nn.BCELoss()\n",
    "G_opt = torch.optim.Adam(Generator.parameters(), lr = 0.0002)\n",
    "D_opt = torch.optim.Adam(Discriminator.parameters(), lr = 0.0002)\n",
    "fixed_x = var(torch.randn(batch_size, Generator_input))\n",
    "lossManager = LossModule()"
   ]
  },
  {
   "cell_type": "code",
   "execution_count": 51,
   "metadata": {},
   "outputs": [],
   "source": [
    "outputImages = []\n",
    "def train(num_epochs = 10, d_iter = 1):\n",
    "    for epoch in range(num_epochs):\n",
    "        for data in data_loader:\n",
    "            image, _  = data\n",
    "            image = var(image.view(image.size(0),  -1))\n",
    "            # Train Discriminator\n",
    "            \n",
    "            #for k in range(0, d_iter):\n",
    "            # For Log D(x)\n",
    "            D_real = Discriminator(image)\n",
    "            # For Log(1 - D(G(Z)))\n",
    "            Z_noise = var(torch.randn(batch_size, Generator_input))\n",
    "            G_fake = Generator(Z_noise)\n",
    "            D_fake = Discriminator(G_fake)\n",
    "\n",
    "            # Calculate Discriminator Loss\n",
    "            D_real_loss = lossCriterion(D_real, var(torch.ones(batch_size, 1)))\n",
    "            D_fake_loss = lossCriterion(D_fake, var(torch.zeros(batch_size, 1)))\n",
    "            D_loss = D_real_loss + D_fake_loss\n",
    "\n",
    "            # Backprop Discriminator\n",
    "            Discriminator.zero_grad()\n",
    "            D_loss.backward()\n",
    "            D_opt.step()\n",
    "\n",
    "                \n",
    "            # Train Generator\n",
    "            Z_noise = var(torch.randn(batch_size, Generator_input))\n",
    "            G_fake = Generator(Z_noise)\n",
    "            D_fake = Discriminator(G_fake)\n",
    "            # Compute Generator Loss\n",
    "            G_loss = lossCriterion(D_fake, var(torch.ones(batch_size, 1)))\n",
    "            \n",
    "            # Backprop Genearator\n",
    "            Discriminator.zero_grad()\n",
    "            Generator.zero_grad()\n",
    "            G_loss.backward()\n",
    "            G_opt.step()\n",
    "            \n",
    "        #print epoch\n",
    "        print 'Epoch [{}/{}], Discriminator {:.4f}, Generator {:.4f}'.format(epoch+1, num_epochs, D_loss.data[0], G_loss.data[0])\n",
    "        lossManager.insertDiscriminatorLoss(D_loss.data[0])\n",
    "        lossManager.insertGeneratorLoss(G_loss.data[0])\n",
    "        pic = Generator(fixed_x)\n",
    "        pic = pic.view(pic.size(0), 1, 28, 28) \n",
    "        pic = denorm(pic.data)\n",
    "        outputImages.append(pic)\n",
    "        #torchvision.utils.save_image(pic, path+'image_{}.png'.format(epoch))\n",
    "        save_image(pic, path+'image_{}.png'.format(epoch))             "
   ]
  },
  {
   "cell_type": "code",
   "execution_count": 53,
   "metadata": {},
   "outputs": [
    {
     "name": "stdout",
     "output_type": "stream",
     "text": [
      "Epoch [1/5], Discriminator 0.8175, Generator 2.6055\n",
      "Epoch [2/5], Discriminator 0.8521, Generator 2.4320\n",
      "Epoch [3/5], Discriminator 0.4526, Generator 2.4988\n",
      "Epoch [4/5], Discriminator 0.4116, Generator 2.8238\n",
      "Epoch [5/5], Discriminator 0.5188, Generator 3.4409\n"
     ]
    }
   ],
   "source": [
    "num_epochs = 5\n",
    "train(num_epochs)"
   ]
  },
  {
   "cell_type": "code",
   "execution_count": 72,
   "metadata": {},
   "outputs": [
    {
     "data": {
      "image/png": "[encoded data removed]",
      "text/plain": [
       "<matplotlib.figure.Figure at 0x7f96d8917e50>"
      ]
     },
     "metadata": {},
     "output_type": "display_data"
    }
   ],
   "source": [
    "# Plot the Loss for Generator and Discriminator\n",
    "#drawLossPlot(lossManager.getGeneratorLoss(), lossManager.getDiscriminatorLoss(), showPlot = True, savePlot = False)"
   ]
  },
  {
   "cell_type": "code",
   "execution_count": 60,
   "metadata": {},
   "outputs": [],
   "source": [
    "# Generate GIF\n",
    "generate_animation(path, 5, 'Vanilla_Gan')"
   ]
  },
  {
   "cell_type": "code",
   "execution_count": 65,
   "metadata": {},
   "outputs": [],
   "source": [
    "# Save the model\n",
    "torch.save(Generator.state_dict(), './Generator.pkl')\n",
    "torch.save(Discriminator.state_dict(), './Discriminator.pkl')\n",
    "pickle.dump(lossManager, open( \"LossManager.pkl\", \"wb\" ))"
   ]
  },
  {
   "cell_type": "code",
   "execution_count": 74,
   "metadata": {},
   "outputs": [],
   "source": [
    "# Load Loss Manager for viewing data of 200 iterations\n",
    "lossManagerTrained = pickle.load(open( \"200Iteration/LossManager.pkl\", \"rb\" ))"
   ]
  },
  {
   "cell_type": "code",
   "execution_count": 87,
   "metadata": {},
   "outputs": [],
   "source": [
    "drawLossPlot(lossManagerTrained.getGeneratorLoss(), lossManagerTrained.getDiscriminatorLoss(), showPlot = False, savePlot = True, loc = \"200Iteration\")\n",
    "#drawLossPlot(lossManagerTrained.getGeneratorLoss(), lossManagerTrained.getDiscriminatorLoss(), showPlot = True, savePlot = False, loc = \"200Iteration\")"
   ]
  },
  {
   "cell_type": "code",
   "execution_count": 2,
   "metadata": {},
   "outputs": [],
   "source": [
    "# Load model for debugging and testing\n",
    "#Generator.load_state_dict(torch.load('Generator200.pkl'))\n",
    "#Discriminator.load_state_dict(torch.load('Discriminator200.pkl'))"
   ]
  }
 ],
 "metadata": {
  "kernelspec": {
   "display_name": "Python 2",
   "language": "python",
   "name": "python2"
  },
  "language_info": {
   "codemirror_mode": {
    "name": "ipython",
    "version": 2
   },
   "file_extension": ".py",
   "mimetype": "text/x-python",
   "name": "python",
   "nbconvert_exporter": "python",
   "pygments_lexer": "ipython2",
   "version": "2.7.14"
  }
 },
 "nbformat": 4,
 "nbformat_minor": 2
}
