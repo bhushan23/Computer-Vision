{
 "cells": [
  {
   "cell_type": "code",
   "execution_count": 1,
   "metadata": {},
   "outputs": [],
   "source": [
    "import torch\n",
    "import torch.nn as nn\n",
    "import torch.nn.functional as F\n",
    "from torch.autograd import Variable\n",
    "from torchvision import datasets\n",
    "from torchvision import transforms\n",
    "import torchvision"
   ]
  },
  {
   "cell_type": "code",
   "execution_count": 2,
   "metadata": {},
   "outputs": [],
   "source": [
    "# MNIST dataset\n",
    "dataset = datasets.MNIST(root='./data',\n",
    "                         train=True,\n",
    "                         transform=transforms.ToTensor(),\n",
    "                         download=True)\n",
    "# Data loader\n",
    "data_loader = torch.utils.data.DataLoader(dataset=dataset,\n",
    "                                          batch_size=100, \n",
    "                                          shuffle=True)"
   ]
  },
  {
   "cell_type": "code",
   "execution_count": 3,
   "metadata": {},
   "outputs": [],
   "source": [
    "IS_CUDA = False\n",
    "if torch.cuda.is_available():\n",
    "    IS_CUDA = True"
   ]
  },
  {
   "cell_type": "code",
   "execution_count": 4,
   "metadata": {},
   "outputs": [],
   "source": [
    "def var(x):\n",
    "    if IS_CUDA:\n",
    "        x = x.cuda()\n",
    "    return Variable(x)"
   ]
  },
  {
   "cell_type": "code",
   "execution_count": 5,
   "metadata": {},
   "outputs": [],
   "source": [
    "# Model 1\n",
    "class VAE(nn.Module):\n",
    "    def __init__(self, image_size=784, h_dim = 400, z_dim = 20):\n",
    "        super(VAE, self).__init__()\n",
    "        self.encoder = nn.Sequential(\n",
    "            nn.Linear(image_size, h_dim),\n",
    "            nn.LeakyReLU(0.2),\n",
    "            nn.Linear(h_dim, z_dim*2))\n",
    "        \n",
    "        self.decoder = nn.Sequential(\n",
    "            nn.Linear(z_dim, h_dim),\n",
    "            nn.ReLU(),\n",
    "            nn.Linear(h_dim, image_size),\n",
    "            nn.Sigmoid())\n",
    "    \n",
    "    def reparameterize(self, mu, log_var):\n",
    "        epsilon = var(torch.randn(mu.size(0), mu.size(1)))\n",
    "        z = mu + epsilon * torch.exp(log_var/2)\n",
    "        return z\n",
    "    \n",
    "    def forward(self, x):\n",
    "        h = self.encoder(x)\n",
    "        mu, log_var = torch.chunk(h, 2, dim = 1)\n",
    "        z = self.reparameterize(mu, log_var)\n",
    "        out = self.decoder(z)\n",
    "        return out, mu, log_var\n",
    "    \n",
    "    def sample(self, z):\n",
    "        return self.decoder(z)\n",
    "    \n",
    "vae = VAE()\n",
    "if IS_CUDA:\n",
    "    vae.cuda()"
   ]
  },
  {
   "cell_type": "code",
   "execution_count": null,
   "metadata": {},
   "outputs": [],
   "source": []
  },
  {
   "cell_type": "code",
   "execution_count": 6,
   "metadata": {},
   "outputs": [],
   "source": [
    "optimizer = torch.optim.Adam(vae.parameters(), lr = 0.001)"
   ]
  },
  {
   "cell_type": "code",
   "execution_count": 9,
   "metadata": {},
   "outputs": [],
   "source": [
    "data_iter = iter(data_loader)\n",
    "fixed_x,_ = next(data_iter)\n",
    "torchvision.utils.save_image(fixed_x.cpu(), './data/real_images.png')\n",
    "fixed_x = var(fixed_x.view(fixed_x.size(0), -1))"
   ]
  },
  {
   "cell_type": "code",
   "execution_count": 15,
   "metadata": {},
   "outputs": [],
   "source": [
    "num_epochs = 100"
   ]
  },
  {
   "cell_type": "code",
   "execution_count": 20,
   "metadata": {},
   "outputs": [
    {
     "name": "stdout",
     "output_type": "stream",
     "text": [
      "Epoch [1/10], Loss 10148.0781, Entropy: 7644.2959, KL:  2503.7827 \n",
      "Epoch [2/10], Loss 10514.0645, Entropy: 7954.5342, KL:  2559.5303 \n",
      "Epoch [3/10], Loss 10324.5537, Entropy: 7733.9312, KL:  2590.6226 \n",
      "Epoch [4/10], Loss 10265.7480, Entropy: 7726.6475, KL:  2539.1008 \n",
      "Epoch [5/10], Loss 10400.0928, Entropy: 7804.5132, KL:  2595.5796 \n",
      "Epoch [6/10], Loss 10519.4658, Entropy: 7913.9922, KL:  2605.4736 \n",
      "Epoch [7/10], Loss 10280.1514, Entropy: 7748.4043, KL:  2531.7473 \n",
      "Epoch [8/10], Loss 10738.8965, Entropy: 8040.5742, KL:  2698.3220 \n",
      "Epoch [9/10], Loss 9584.9922, Entropy: 7207.4033, KL:  2377.5884 \n",
      "Epoch [10/10], Loss 10158.0469, Entropy: 7652.7710, KL:  2505.2761 \n"
     ]
    }
   ],
   "source": [
    "outputImages = []\n",
    "for epoch in range(num_epochs):\n",
    "    for data in data_loader:\n",
    "        img, _ = data\n",
    "        img = var(img.view(img.size(0), -1))\n",
    "        out, mu, log_var = vae(img)\n",
    "        rc_loss = F.binary_cross_entropy(out, img, size_average=False)\n",
    "        KL_div = torch.sum(0.5 * (mu ** 2 + torch.exp(log_var) - log_var - 1))\n",
    "        \n",
    "        total_loss = rc_loss + KL_div\n",
    "        optimizer.zero_grad()\n",
    "        total_loss.backward()\n",
    "        optimizer.step()\n",
    "        \n",
    "    print 'Epoch [{}/{}], Loss {:.4f}, Entropy: {:.4f}, KL: {: .4f} '.format(epoch+1, num_epochs, total_loss.data[0], rc_loss.data[0], KL_div.data[0]                                                                 )\n",
    "    pic, _, _ = vae(fixed_x)\n",
    "    pic = pic.view(pic.size(0), 1, 28, 28) \n",
    "    outputImages.append(pic)\n",
    "    torchvision.utils.save_image(pic.data.cpu(), './data/image_{}.png'.format(epoch))"
   ]
  },
  {
   "cell_type": "code",
   "execution_count": null,
   "metadata": {},
   "outputs": [],
   "source": []
  }
 ],
 "metadata": {
  "kernelspec": {
   "display_name": "Python 2",
   "language": "python",
   "name": "python2"
  },
  "language_info": {
   "codemirror_mode": {
    "name": "ipython",
    "version": 2
   },
   "file_extension": ".py",
   "mimetype": "text/x-python",
   "name": "python",
   "nbconvert_exporter": "python",
   "pygments_lexer": "ipython2",
   "version": "2.7.14"
  }
 },
 "nbformat": 4,
 "nbformat_minor": 2
}
