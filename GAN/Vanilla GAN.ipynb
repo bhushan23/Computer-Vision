{
 "cells": [
  {
   "cell_type": "code",
   "execution_count": 1,
   "metadata": {},
   "outputs": [],
   "source": [
    "import torch\n",
    "import torch.nn as nn\n",
    "import torch.nn.functional as F\n",
    "from torch.autograd import Variable\n",
    "from torchvision import datasets\n",
    "from torchvision import transforms\n",
    "import torchvision\n",
    "import os\n",
    "import numpy as np\n",
    "import matplotlib.pyplot as plt\n",
    "import torchvision.utils as tutils"
   ]
  },
  {
   "cell_type": "code",
   "execution_count": 2,
   "metadata": {},
   "outputs": [],
   "source": [
    "batch_size = 100\n",
    "path = './data/genImg/'"
   ]
  },
  {
   "cell_type": "code",
   "execution_count": 3,
   "metadata": {},
   "outputs": [],
   "source": [
    "# MNIST dataset\n",
    "dataset = datasets.MNIST(root='./data',\n",
    "                         train=True,\n",
    "                         transform=transforms.ToTensor(),\n",
    "                         download=True)\n",
    "# Data loader\n",
    "data_loader = torch.utils.data.DataLoader(dataset=dataset,\n",
    "                                          batch_size=batch_size, \n",
    "                                          shuffle=True)\n"
   ]
  },
  {
   "cell_type": "code",
   "execution_count": 4,
   "metadata": {},
   "outputs": [],
   "source": [
    "IS_CUDA = False\n",
    "if torch.cuda.is_available():\n",
    "    IS_CUDA = True\n",
    "    \n",
    "def var(x):\n",
    "    if IS_CUDA:\n",
    "        x = x.cuda()\n",
    "    return Variable(x)\n",
    "\n",
    "def show(img):\n",
    "    npimg = img.numpy()\n",
    "    plt.imshow(np.transpose(npimg, (1,2,0)), interpolation='nearest')"
   ]
  },
  {
   "cell_type": "code",
   "execution_count": 5,
   "metadata": {},
   "outputs": [],
   "source": [
    "Generator_input = 64\n",
    "Generator = nn.Sequential(\n",
    "        nn.Linear(Generator_input, 256),\n",
    "        nn.LeakyReLU(0.2),\n",
    "        nn.Linear(256, 256),\n",
    "        nn.LeakyReLU(0.2),\n",
    "        nn.Linear(256, 784),\n",
    "        nn.Tanh())\n",
    "\n",
    "Discriminator = nn.Sequential(\n",
    "        nn.Linear(784, 256),\n",
    "        nn.LeakyReLU(0.2),\n",
    "        nn.Linear(256, 256),\n",
    "        nn.LeakyReLU(0.2),\n",
    "        nn.Linear(256,1),\n",
    "        nn.Sigmoid())\n",
    "\n",
    "if IS_CUDA:\n",
    "    D.cuda()\n",
    "    G.cuda()"
   ]
  },
  {
   "cell_type": "code",
   "execution_count": 6,
   "metadata": {},
   "outputs": [],
   "source": [
    "lossCriterion = nn.BCELoss()\n",
    "G_opt = torch.optim.Adam(Generator.parameters(), lr = 0.0001)\n",
    "D_opt = torch.optim.Adam(Discriminator.parameters(), lr = 0.0001)\n",
    "fixed_x = var(torch.rand(batch_size, Generator_input))"
   ]
  },
  {
   "cell_type": "code",
   "execution_count": 7,
   "metadata": {},
   "outputs": [],
   "source": [
    "outputImages = []\n",
    "def train(num_epochs = 10, d_iter = 1):\n",
    "    for epoch in range(num_epochs):\n",
    "        for data in data_loader:\n",
    "            image, _  = data\n",
    "            image = var(image.view(image.size(0),  -1))\n",
    "            \n",
    "            # Train Discriminator\n",
    "            #for k in range(0, d_iter):\n",
    "            # For Log D(x)\n",
    "            D_real = Discriminator(image)\n",
    "            # For Log(1 - D(G(Z)))\n",
    "            Z_noise = var(torch.rand(batch_size, Generator_input))\n",
    "            G_fake = Generator(Z_noise)\n",
    "            D_fake = Discriminator(G_fake)\n",
    "\n",
    "            # Calculate Discriminator Loss\n",
    "            D_real_loss = lossCriterion(D_real, Variable(torch.ones(batch_size, 1)))\n",
    "            D_fake_loss = lossCriterion(D_fake, Variable(torch.zeros(batch_size, 1)))\n",
    "            D_loss = D_real_loss + D_fake_loss\n",
    "\n",
    "            # Backprop Discriminator\n",
    "            Discriminator.zero_grad()\n",
    "            D_loss.backward()\n",
    "            D_opt.step()\n",
    "\n",
    "                \n",
    "            # Train Generator\n",
    "            Z_noise = var(torch.rand(batch_size, Generator_input))\n",
    "            G_fake = Generator(Z_noise)\n",
    "            D_fake = Discriminator(G_fake)\n",
    "            # Compute Generator Loss\n",
    "            G_loss = lossCriterion(D_fake, Variable(torch.ones(batch_size, 1)))\n",
    "            \n",
    "            # Backprop Genearator\n",
    "            Discriminator.zero_grad()\n",
    "            Generator.zero_grad()\n",
    "            G_loss.backward()\n",
    "            G_opt.step()\n",
    "            \n",
    "        #print epoch\n",
    "        print 'Epoch [{}/{}], Discriminator {:.4f}, Generator {:.4f}'.format(epoch+1, num_epochs, D_loss.data[0], G_loss.data[0])\n",
    "        pic = Generator(fixed_x)\n",
    "        pic = pic.view(pic.size(0), 1, 28, 28) \n",
    "        outputImages.append(pic)\n",
    "        torchvision.utils.save_image(pic.data.cpu(), path+'/image_{}.png'.format(epoch))             \n",
    "            "
   ]
  },
  {
   "cell_type": "code",
   "execution_count": 8,
   "metadata": {},
   "outputs": [
    {
     "name": "stdout",
     "output_type": "stream",
     "text": [
      "Epoch [1/10], Discriminator 1.2796, Generator 0.7525\n",
      "Epoch [2/10], Discriminator 0.9706, Generator 1.1298\n",
      "Epoch [3/10], Discriminator 0.6841, Generator 1.6944\n",
      "Epoch [4/10], Discriminator 1.1301, Generator 1.2422\n",
      "Epoch [5/10], Discriminator 1.0177, Generator 1.8256\n",
      "Epoch [6/10], Discriminator 1.3305, Generator 1.4840\n",
      "Epoch [7/10], Discriminator 1.5984, Generator 2.3056\n",
      "Epoch [8/10], Discriminator 1.2846, Generator 1.1496\n",
      "Epoch [9/10], Discriminator 0.6496, Generator 1.4030\n",
      "Epoch [10/10], Discriminator 0.4946, Generator 1.4218\n"
     ]
    }
   ],
   "source": [
    "train()\n"
   ]
  }
 ],
 "metadata": {
  "kernelspec": {
   "display_name": "Python 2",
   "language": "python",
   "name": "python2"
  },
  "language_info": {
   "codemirror_mode": {
    "name": "ipython",
    "version": 2
   },
   "file_extension": ".py",
   "mimetype": "text/x-python",
   "name": "python",
   "nbconvert_exporter": "python",
   "pygments_lexer": "ipython2",
   "version": "2.7.14"
  }
 },
 "nbformat": 4,
 "nbformat_minor": 2
}
