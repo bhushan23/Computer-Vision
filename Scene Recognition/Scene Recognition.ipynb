{
 "cells": [
  {
   "cell_type": "markdown",
   "metadata": {
    "ein.tags": "worksheet-0",
    "slideshow": {
     "slide_type": "-"
    }
   },
   "source": [
    "# CSE527 Homework 3\n",
    "**Due date: 23:59 on 11/06, 2018 (Tuesday)**\n",
    "\n",
    "## Description\n",
    "---\n",
    "In this homework, we will examine the task of scene recognition starting with\n",
    "very simple methods: tiny images and nearest neighbor classification, and then\n",
    "move on to more advanced methods: bags of quantized local features and linear\n",
    "classifiers learned by support vector machines.\n",
    "\n",
    "Bag of words models are a popular technique for image classification inspired by\n",
    "models used in natural language processing. The model ignores or downplays word\n",
    "arrangement (spatial information in the image) and classifies based on a\n",
    "histogram of the frequency of visual words. The visual word \"vocabulary\" is\n",
    "established by clustering a large corpus of local features. See Szeliski chapter\n",
    "14.4.1 for more details on category recognition with quantized features. In\n",
    "addition, 14.3.2 discusses vocabulary creation and 14.1 covers classification\n",
    "techniques.\n",
    "\n",
    "For this homework you will be implementing a basic bag of words model. You will\n",
    "classify scenes into one of 15 categories by training and testing on the 15\n",
    "scene database (introduced in [Lazebnik et al.\n",
    "2006](http://www.di.ens.fr/willow/pdfs/cvpr06b.pdf), although built on top of\n",
    "previously published datasets).\n",
    "[Lazebnik et al. 2006](http://www.di.ens.fr/willow/pdfs/cvpr06b.pdf) is a great\n",
    "paper to read, although we will be implementing the baseline method the paper\n",
    "discusses (equivalent to the zero level pyramid) and not the more sophisticated\n",
    "spatial pyramid. For an excellent survey of\n",
    "pre-deep-learning feature encoding methods for bag of words models, see\n",
    "[Chatfield et al, 2011](http://www.robots.ox.ac.uk/~vgg/research/encoding_eval/).\n",
    "\n",
    "You are required to implement 2 different image representations: tiny images and bags of SIFT features, and 2 different classification techniques: nearest neighbor and linear SVM. There are 3 problems plus a performance report in this homework with a total of 100 points. 1 bonus question with extra 10 points is provided under problem 3. The maximum points you may earn from this homework is 100 + 10 = 110 points. Be sure to read **Submission Guidelines** below. They are important.\n",
    "\n",
    "## Dataset\n",
    "---\n",
    "The starter code trains and tests on 100 images from each category (i.e. 1500\n",
    "training examples total and 1500 test cases total). In a real research paper,\n",
    "one would be expected to test performance on random splits of the data into\n",
    "training and test sets, but the starter code does not do this to ease debugging.\n",
    "Download the dataset\n",
    "[here](https://drive.google.com/a/cs.stonybrook.edu/file/d/0B446EB1iI6_Qc0Q1NTRTajdUVTg/view?usp=sharing). <br>\n",
    "\n",
    "Once downloded, extract it to your root folder Surname_Givenname_SBUID. Under your root folder,\n",
    "there should be a folder named \"data\" (i.e. XXX/Surname_Givenname_SBUID/data) containing the images.\n",
    "**Delete** the data subfolder before submission or the blackboard won't let you do so because\n",
    "of the size. There should be only one .ipynb file under your root folder Surname_Givenname_SBUID.\n",
    "\n",
    "\n",
    "## Starter Code\n",
    "---\n",
    "To make your task a little easier, below we provide some starter code which\n",
    "randomly guesses the category of every test image and achieves about 6.6% accuracy\n",
    "(1 out of 15 guesses is correct)."
   ]
  },
  {
   "cell_type": "code",
   "execution_count": 1,
   "metadata": {
    "autoscroll": false,
    "ein.tags": "worksheet-0",
    "slideshow": {
     "slide_type": "-"
    }
   },
   "outputs": [],
   "source": [
    "# import packages here\n",
    "import cv2\n",
    "import numpy as np\n",
    "import matplotlib.pyplot as plt\n",
    "import glob\n",
    "import itertools\n",
    "import time"
   ]
  },
  {
   "cell_type": "code",
   "execution_count": 2,
   "metadata": {
    "autoscroll": false,
    "ein.tags": "worksheet-0",
    "scrolled": false,
    "slideshow": {
     "slide_type": "-"
    }
   },
   "outputs": [
    {
     "name": "stdout",
     "output_type": "stream",
     "text": [
      "The accuracy of my dummy model is 6.40%\n"
     ]
    }
   ],
   "source": [
    "class_names = [name[11:] for name in glob.glob('data/train/*')]\n",
    "class_names = dict(zip(xrange(len(class_names)), class_names))\n",
    "\n",
    "def load_dataset(path, num_per_class=-1):\n",
    "    data = []\n",
    "    labels = []\n",
    "    for id, class_name in class_names.iteritems():\n",
    "        img_path_class = glob.glob(path + class_name + '/*.jpg')\n",
    "        if num_per_class > 0:\n",
    "            img_path_class = img_path_class[:num_per_class]\n",
    "        labels.extend([id]*len(img_path_class))\n",
    "        for filename in img_path_class:\n",
    "            data.append(cv2.imread(filename, 0))\n",
    "    return data, labels\n",
    "\n",
    "# load training dataset\n",
    "train_data, train_label = load_dataset('data/train/')\n",
    "train_num = len(train_label)\n",
    "\n",
    "# load testing dataset\n",
    "test_data, test_label = load_dataset('data/test/', 100)\n",
    "test_num = len(test_label)\n",
    "\n",
    "# feature extraction\n",
    "def extract_feat(raw_data):\n",
    "    feat_dim = 1000\n",
    "    feat = np.zeros((len(raw_data), feat_dim), dtype=np.float32)\n",
    "    for i in xrange(feat.shape[0]):\n",
    "        feat[i] = np.reshape(raw_data[i], (raw_data[i].size))[:feat_dim] # dummy implemtation\n",
    "        \n",
    "    return feat\n",
    "\n",
    "train_feat = extract_feat(train_data)\n",
    "test_feat = extract_feat(test_data)\n",
    "\n",
    "# model training: take feature and label, return model\n",
    "def train(X, Y):\n",
    "    return 0 # dummy implementation\n",
    "\n",
    "# prediction: take feature and model, return label\n",
    "def predict(model, x):\n",
    "    return np.random.randint(15) # dummy implementation\n",
    "\n",
    "# evaluation\n",
    "predictions = [-1]*len(test_feat)\n",
    "for i in xrange(test_num):\n",
    "    predictions[i] = predict(None, test_feat[i])\n",
    "    \n",
    "accuracy = sum(np.array(predictions) == test_label) / float(test_num)\n",
    "\n",
    "print \"The accuracy of my dummy model is {:.2f}%\".format(accuracy*100)"
   ]
  },
  {
   "cell_type": "markdown",
   "metadata": {
    "ein.tags": "worksheet-0",
    "slideshow": {
     "slide_type": "-"
    }
   },
   "source": [
    "## Problem 1: Tiny Image Representation + Nearest Neighbor Classifier\n",
    "{25 points} You will start by implementing the tiny image representation and the nearest neighbor classifier. They are easy to understand, easy to implement, and run very quickly for our experimental setup.\n",
    "\n",
    "The \"tiny image\" feature is one of the simplest possible image representations. One simply resizes each image to a small, fixed resolution. You are required to **resize the image to 16x16**. It works slightly better if the tiny image is made to have zero mean and unit length (normalization). This is not a particularly good representation, because it discards all of the high frequency image content and is not especially invariant to spatial or brightness shifts. We are using tiny images simply as a baseline.\n",
    "\n",
    "The nearest neighbor classifier is equally simple to understand. When tasked with classifying a test feature into a particular category, one simply finds the \"nearest\" training example (L2 distance is a sufficient metric) and assigns the label of that nearest training example to the test example. The nearest neighbor classifier has many desirable features — it requires no training, it can learn arbitrarily complex decision boundaries, and it trivially supports multiclass problems. It is quite vulnerable to training noise, though, which can be alleviated by voting based on the K nearest neighbors (but you are not required to do so). Nearest neighbor classifiers also suffer as the feature dimensionality increases, because the classifier has no mechanism to learn which dimensions are irrelevant for the decision.\n",
    "\n",
    "Report your classification accuracy on the test sets and time consumption.\n",
    "\n",
    "**Hints**:\n",
    "- Use [cv2.resize()](https://docs.opencv.org/2.4/modules/imgproc/doc/geometric_transformations.html#resize) to resize the images;\n",
    "- Use [NearestNeighbors in Sklearn](http://scikit-learn.org/stable/modules/neighbors.html) as your nearest neighbor classifier."
   ]
  },
  {
   "cell_type": "code",
   "execution_count": 53,
   "metadata": {
    "autoscroll": false,
    "ein.tags": "worksheet-0",
    "slideshow": {
     "slide_type": "-"
    }
   },
   "outputs": [
    {
     "name": "stdout",
     "output_type": "stream",
     "text": [
      "('Training time: ', 0.009184122085571289)\n",
      "('Testing time: ', 1.1519279479980469)\n",
      "('The accuracy of my Nearest Neighbor model is ', 18.53333333333333)\n"
     ]
    }
   ],
   "source": [
    "# Write your codes here\n",
    "from sklearn.neighbors import NearestNeighbors\n",
    "\n",
    "class_names = [name[11:] for name in glob.glob('data/train/*')]\n",
    "class_names = dict(zip(xrange(len(class_names)), class_names))\n",
    "\n",
    "def load_dataset(path, num_per_class=-1):\n",
    "    data = []\n",
    "    labels = []\n",
    "    for id, class_name in class_names.iteritems():\n",
    "        img_path_class = glob.glob(path + class_name + '/*.jpg')\n",
    "        if num_per_class > 0:\n",
    "            img_path_class = img_path_class[:num_per_class]\n",
    "        labels.extend([id]*len(img_path_class))\n",
    "        for filename in img_path_class:\n",
    "            img = cv2.imread(filename, 0)\n",
    "            img = cv2.resize(img, (16, 16)).flatten()\n",
    "            data.append(img)\n",
    "    return data, labels\n",
    "\n",
    "def train_and_test(train_data, train_label, train_num, test_data, test_label, test_num):\n",
    "    start_time = time.time()\n",
    "    NN = NearestNeighbors(n_neighbors=5)\n",
    "    NN.fit(train_data, train_label)\n",
    "    train_time = time.time()\n",
    "    distances, indices = NN.kneighbors(test_data, n_neighbors = 1)\n",
    "    pred = np.take(train_label, indices)\n",
    "    test_time = time.time()\n",
    "    print('Training time: ', train_time - start_time)\n",
    "    print('Testing time: ', test_time - train_time)\n",
    "    return pred, test_label\n",
    "\n",
    "# load training dataset\n",
    "train_data, train_label = load_dataset('data/train/')\n",
    "train_num = len(train_label)\n",
    "\n",
    "# load testing dataset\n",
    "test_data, test_label = load_dataset('data/test/', 100)\n",
    "test_num = len(test_label)\n",
    "\n",
    "pred1, label1 = train_and_test(train_data, train_label, train_num, test_data, test_label, test_num) # train_and_test(...\n",
    "accuracy = sum(np.array(pred1) == np.array(label1).reshape(len(label1), 1)) / float(test_num)\n",
    "\n",
    "print(\"The accuracy of my Nearest Neighbor model is \", float(accuracy*100))"
   ]
  },
  {
   "cell_type": "markdown",
   "metadata": {
    "ein.tags": "worksheet-0",
    "slideshow": {
     "slide_type": "-"
    }
   },
   "source": [
    "## Problem 2: Bag of SIFT Representation + Nearest Neighbor Classifer\n",
    "{35 points}\n",
    "After you have implemented a baseline scene recognition pipeline it is time to\n",
    "move on to a more sophisticated image representation — bags of quantized SIFT\n",
    "features. Before we can represent our training and testing images as bag of\n",
    "feature histograms, we first need to establish a vocabulary of visual words. We\n",
    "will form this vocabulary by sampling many local features from our training set\n",
    "(10's or 100's of thousands) and then cluster them with k-means. The number of\n",
    "k-means clusters is the size of our vocabulary and the size of our features. For\n",
    "example, you might start by clustering many SIFT descriptors into k=50 clusters.\n",
    "This partitions the continuous, 128 dimensional SIFT feature space into 50\n",
    "regions. For any new SIFT feature we observe, we can figure out which region it\n",
    "belongs to as long as we save the centroids of our original clusters. Those\n",
    "centroids are our visual word vocabulary. Because it can be slow to sample and\n",
    "cluster many local features, the starter code saves the cluster centroids and\n",
    "avoids recomputing them on future runs.\n",
    "\n",
    "Now we are ready to represent our training and testing images as histograms of\n",
    "visual words. For each image we will densely sample many SIFT descriptors.\n",
    "Instead of storing hundreds of SIFT descriptors, we simply count how many SIFT\n",
    "descriptors fall into each cluster in our visual word vocabulary. This is done\n",
    "by finding the nearest neighbor k-means centroid for every SIFT feature. Thus,\n",
    "if we have a vocabulary of 50 visual words, and we detect 220 distinct SIFT\n",
    "features in an image, our bag of SIFT representation will be a histogram of 50\n",
    "dimensions where each bin counts how many times a SIFT descriptor was assigned\n",
    "to that cluster. The total of all the bin-counts is 220. The histogram should be\n",
    "normalized so that image size does not dramatically change the bag of features\n",
    "magnitude.\n",
    "\n",
    "**Note**: \n",
    "- Instead of using SIFT to detect invariant keypoints which is time-consuming,\n",
    "  you are recommended to densely sample keypoints in a grid with certain step\n",
    "  size (sampling density) and scale.\n",
    "- There are many design decisions and free parameters for the bag of SIFT\n",
    "  representation (number of clusters, sampling density, sampling scales, SIFT\n",
    "  parameters, etc.) so accuracy might vary from 50% to 60%.\n",
    "- Indicate clearly the parameters you use along with the prediction accuracy\n",
    "  on test set and time consumption.\n",
    "\n",
    "**Hints**:\n",
    "- Use [KMeans in Sklearn](http://scikit-learn.org/stable/modules/generated/sklearn.cluster.KMeans.html)\n",
    "  to do clustering and find the nearest cluster centroid for each SIFT feature;\n",
    "- Use `cv2.xfeatures2d.SIFT_create()` to create a SIFT object;\n",
    "- Use `sift.compute()` to compute SIFT descriptors given densely sampled keypoints\n",
    "  ([cv2.Keypoint](https://docs.opencv.org/3.0-beta/modules/core/doc/basic_structures.html?highlight=keypoint#keypoint))."
   ]
  },
  {
   "cell_type": "code",
   "execution_count": 8,
   "metadata": {
    "autoscroll": false,
    "ein.tags": "worksheet-0",
    "slideshow": {
     "slide_type": "-"
    }
   },
   "outputs": [
    {
     "name": "stdout",
     "output_type": "stream",
     "text": [
      "('The accuracy of SIFT with Dense Features approach Nearest Neighbor model is ', 55.2)\n",
      "('Training Time: ', 0.002084016799926758)\n",
      "('Testing Time: ', 0.14781618118286133)\n"
     ]
    }
   ],
   "source": [
    "# Write your codes here\n",
    "from sklearn.cluster import KMeans\n",
    "from sklearn.neighbors import NearestNeighbors\n",
    "class_names = [name[11:] for name in glob.glob('data/train/*')]\n",
    "class_names = dict(zip(xrange(len(class_names)), class_names))\n",
    "\n",
    "class Sift_Classifier:\n",
    "    def __init__(self, np_array_name = 'centroid_sift.npy', step_size = 0, cluster_size = 50, centroids = None, train = 'data/train/', test = 'data/test/'):\n",
    "        self.train_data, self.train_labels = self.load_dataset(train)   \n",
    "        self.test_data, self.test_labels = self.load_dataset(test, 100)\n",
    "        \n",
    "        self.test_num = len(self.test_labels)\n",
    "        self.centroid_file_name = np_array_name\n",
    "        self.step_size = step_size\n",
    "        self.cluster_size = cluster_size\n",
    "        self.UseCentroids = False\n",
    "        if centroids is None:\n",
    "            self.kmeans = KMeans(n_clusters = cluster_size, random_state = 0)\n",
    "        else:\n",
    "            self.centroids = np.load(centroids)\n",
    "            self.UseCentroids = True\n",
    "\n",
    "    def load_dataset(self, path, num_per_class=-1):\n",
    "        data   = []\n",
    "        labels = []\n",
    "        for id, class_name in class_names.iteritems():\n",
    "            img_path_class = glob.glob(path + class_name + '/*.jpg')\n",
    "            if num_per_class > 0:\n",
    "                img_path_class = img_path_class[:num_per_class]\n",
    "            labels.extend([id] * len(img_path_class))\n",
    "            for filename in img_path_class:\n",
    "                img = cv2.imread(filename, 0)\n",
    "                data.append(img)\n",
    "        return data, labels\n",
    "    \n",
    "    def get_key_points(self, img):\n",
    "        if self.step_size == 0:\n",
    "            return None\n",
    "        \n",
    "        keypoints = []\n",
    "        step_size = self.step_size\n",
    "        for i in range(0, img.shape[0], step_size):\n",
    "            for j in range(0, img.shape[1], step_size):\n",
    "                keypoints.append(cv2.KeyPoint(i, j, step_size))\n",
    "        return keypoints\n",
    "    \n",
    "    def extract_features_sift(self):\n",
    "        sift        = cv2.SIFT()\n",
    "        self.descriptors  = np.array([])\n",
    "        self.per_image_desc = []\n",
    "        i = 0\n",
    "        for each_img in self.train_data:\n",
    "            keypoints = self.get_key_points(each_img)\n",
    "            if self.step_size == 0:\n",
    "                _, desc = sift.detectAndCompute(each_img, keypoints)\n",
    "            else:\n",
    "                _, desc = sift.compute(each_img, keypoints)\n",
    "            self.per_image_desc.append(desc)\n",
    "            if self.descriptors.shape[0] == 0:\n",
    "                self.descriptors = desc\n",
    "            else:\n",
    "                self.descriptors = np.append(self.descriptors, desc, axis = 0)\n",
    "    \n",
    "    def clustering(self):\n",
    "        if self.UseCentroids is False:\n",
    "            self.kmeans.fit(self.descriptors)\n",
    "            np.save(self.centroid_file_name, self.kmeans.cluster_centers_)\n",
    "            print('K Means fit done')\n",
    "        else:\n",
    "            print('Using Centroids from file')\n",
    "        data_features = []\n",
    "        NN = NearestNeighbors(n_neighbors=5)\n",
    "        NN.fit(self.centroids, np.arange(0, len(self.centroids)))\n",
    "    \n",
    "        for desc in self.per_image_desc:\n",
    "            if self.UseCentroids:\n",
    "                _, indices = NN.kneighbors(desc, n_neighbors = 1)\n",
    "                clusters   = np.take(self.centroids, indices)\n",
    "            else:\n",
    "                clusters   = self.kmeans.predict(desc)\n",
    "            # print('Shape - Cluster', desc.shape, clusters.shape)\n",
    "            hist, _ = np.histogram(clusters, density=True, bins = np.arange(0, self.cluster_size + 1))\n",
    "            data_features.append(hist)\n",
    "        self.train_features = np.array(data_features)\n",
    "        print('Clustering Done')\n",
    "\n",
    "    def predict_with_NN(self):\n",
    "        sift = cv2.SIFT()\n",
    "        desc = []\n",
    "        start_time = time.time()\n",
    "        NN = NearestNeighbors(n_neighbors=5)\n",
    "        NN.fit(self.train_features, self.train_labels)\n",
    "        \n",
    "        CentroidsNN = NearestNeighbors(n_neighbors=5)\n",
    "        CentroidsNN.fit(self.centroids, np.arange(0, len(self.centroids)))\n",
    "        \n",
    "        train_time = time.time()\n",
    "        test_feats = []\n",
    "        for each_img in self.test_data:\n",
    "            keypoints = self.get_key_points(each_img)\n",
    "            if self.step_size == 0:\n",
    "                _, desc = sift.detectAndCompute(each_img, keypoints)\n",
    "            else:\n",
    "                _, desc = sift.compute(each_img, keypoints)\n",
    "            if self.UseCentroids:\n",
    "                _, indices = CentroidsNN.kneighbors(desc, n_neighbors = 1)\n",
    "                clusters   = np.take(self.centroids, indices)\n",
    "            else:\n",
    "                clusters   = self.kmeans.predict(desc)\n",
    "            hist, _   = np.histogram(clusters, density=True, bins = np.arange(0, self.cluster_size + 1))\n",
    "            test_feats.append(hist)\n",
    "        test_feature_time = time.time()\n",
    "        self.test_features = np.array(test_feats)\n",
    "        _, indices = NN.kneighbors(self.test_features, n_neighbors = 1)\n",
    "        self.pred = np.take(self.train_labels, indices)\n",
    "        test_time = time.time()\n",
    "        \n",
    "        print('Training Time: ', train_time - start_time)\n",
    "        print('Test Feature Extraction Time: ', test_feature_time - train_time)\n",
    "        print('Testing Time: ', test_time - test_feature_time)\n",
    "        return self.pred, self.test_labels\n",
    "    \n",
    "    def train_test_with_sift_and_NN(self):\n",
    "        start_time = time.time()\n",
    "        self.extract_features_sift()\n",
    "        feature_extraction_time = time.time()\n",
    "        print('Feature Extraction time: ', feature_extraction_time - start_time, 'seconds')\n",
    "        self.clustering()\n",
    "        cluster_time = time.time()\n",
    "        print('Clustering time: ', cluster_time - feature_extraction_time, 'seconds')\n",
    "        pred, labels = self.predict_with_NN()\n",
    "        print('Total Training time: ', cluster_time - start_time, 'seconds')\n",
    "        test_time = time.time()\n",
    "        print('Total Test time: ', test_time - cluster_time, 'seconds')\n",
    "        return pred, labels\n",
    "    \n",
    "\n",
    "# Testing code\n",
    "# Pass NN Classifier object created above\n",
    "def test_NN_SIFT(self):\n",
    "    sift = cv2.SIFT()\n",
    "    desc = []\n",
    "    start_time = time.time()\n",
    "    NN = NearestNeighbors(n_neighbors=5)\n",
    "    NN.fit(self.train_features, self.train_labels)\n",
    "    train_time = time.time()\n",
    "    test_feats = []\n",
    "\n",
    "    _, indices = NN.kneighbors(self.test_features, n_neighbors = 1)\n",
    "    self.pred = np.take(self.train_labels, indices)\n",
    "    test_time = time.time()\n",
    "\n",
    "    accuracy = sum(np.array(self.pred) == np.array(self.test_labels).reshape(len(self.test_labels), 1)) / float(self.test_num)\n",
    "    np.array(self.test_labels).reshape(len(self.test_labels), 1).shape\n",
    "    print(\"The accuracy of SIFT with Dense Features approach Nearest Neighbor model is \", float(accuracy*100))\n",
    "\n",
    "    print('Training Time: ', train_time - start_time)\n",
    "    print('Testing Time: ', test_time - train_time)\n",
    "    \n",
    "    return self.pred, self.test_labels\n",
    "\n",
    "# Best Model for 2nd Problem\n",
    "sift_class_nn_5 = Sift_Classifier(np_array_name = 'Dense_SIFT_2.npy', step_size = 10, cluster_size = 50)\n",
    " _, _ = test_NN_SIFT(sift_class_nn_5)"
   ]
  },
  {
   "cell_type": "code",
   "execution_count": 7,
   "metadata": {},
   "outputs": [
    {
     "name": "stdout",
     "output_type": "stream",
     "text": [
      "('Feature Extraction time: ', 35.6744179725647, 'seconds')\n",
      "Using Centroids from file\n",
      "Clustering Done\n",
      "('Clustering time: ', 0.7823770046234131, 'seconds')\n",
      "('Training Time: ', 0.0033178329467773438)\n",
      "('Test Feature Extraction Time: ', 38.992011070251465)\n",
      "('Testing Time: ', 0.09611105918884277)\n",
      "('Total Training time: ', 36.45679497718811, 'seconds')\n",
      "('Total Test time: ', 39.09262299537659, 'seconds')\n",
      "('The accuracy of SIFT with Dense approach Nearest Neighbor model is ', 19.53333333333333)\n"
     ]
    }
   ],
   "source": [
    "# Pass Centroids = File path for numpy array\n",
    "# Use following for testing \n",
    "# Pass Numpy Pass as Dense_SIFT.py\n",
    "# Please use step size = 10 to get optimal performance\n",
    "test_data_path = 'data/test/'\n",
    "sift_class_nn_test = Sift_Classifier(step_size = 10, cluster_size = 50, test = test_path, centroids = 'Dense_SIFT.npy')\n",
    "pred_test, label_test = sift_class_nn_test.train_test_with_sift_and_NN() # train_and_test(...\n",
    "accuracy = sum(np.array(pred_test) == np.array(label_test).reshape(len(label_test), 1)) / float(sift_class_nn_test.test_num)\n",
    "print(\"The accuracy of SIFT with Dense approach Nearest Neighbor model is \", float(accuracy*100))"
   ]
  },
  {
   "cell_type": "code",
   "execution_count": 52,
   "metadata": {},
   "outputs": [],
   "source": [
    "# Experiment 1 - Normal Feature Extraction\n",
    "# sift_class_nn = Sift_Classifier()\n",
    "# pred2, label2 = sift_class_nn.train_test_with_sift_and_NN() # train_and_test(...\n",
    "# accuracy = sum(np.array(pred2) == np.array(label2).reshape(len(label2), 1)) / float(sift_class_nn.test_num)\n",
    "# print(\"The accuracy of SIFT with basic approach Nearest Neighbor model is \", float(accuracy*100))"
   ]
  },
  {
   "cell_type": "code",
   "execution_count": 11,
   "metadata": {},
   "outputs": [
    {
     "name": "stdout",
     "output_type": "stream",
     "text": [
      "('Feature Extraction time: ', 427.3829941749573, 'seconds')\n",
      "K Means fit done\n",
      "Clustering Done\n",
      "('Clustering time: ', 2009.9401688575745, 'seconds')\n",
      "('Total Training time: ', 2437.3231630325317, 'seconds')\n",
      "('Total Test time: ', 246.4506540298462, 'seconds')\n",
      "('The accuracy of SIFT with Dense approach Nearest Neighbor model is ', 44.333333333333336)\n"
     ]
    }
   ],
   "source": [
    "# Experiment 2: Dense Feature Extraction with Step size 10, radius 10 and cluster size 50\n",
    "sift_class_nn_2 = Sift_Classifier(np_array_name = 'Dense_SIFT.npy', step_size = 10)\n",
    "pred2, label2 = sift_class_nn_2.train_test_with_sift_and_NN() # train_and_test(...\n",
    "accuracy = sum(np.array(pred2) == np.array(label2).reshape(len(label2), 1)) / float(sift_class_nn_2.test_num)\n",
    "print(\"The accuracy of SIFT with Dense approach Nearest Neighbor model is \", float(accuracy*100))"
   ]
  },
  {
   "cell_type": "code",
   "execution_count": 13,
   "metadata": {},
   "outputs": [
    {
     "name": "stdout",
     "output_type": "stream",
     "text": [
      "('Feature Extraction time: ', 391.4500811100006, 'seconds')\n",
      "K Means fit done\n",
      "Clustering Done\n",
      "('Clustering time: ', 2093.0691678524017, 'seconds')\n",
      "('Total Training time: ', 2484.5192489624023, 'seconds')\n",
      "('Total Test time: ', 236.76309299468994, 'seconds')\n",
      "('The accuracy of SIFT with Dense approach Nearest Neighbor model is ', 55.06666666666666)\n"
     ]
    }
   ],
   "source": [
    "# Experiment 3: Dense Feature Extraction with Step size 8, radius 8 and cluster size 50\n",
    "sift_class_nn_3 = Sift_Classifier(np_array_name = 'Dense_SIFT_1.npy', step_size = 8)\n",
    "pred2, label2 = sift_class_nn_3.train_test_with_sift_and_NN() # train_and_test(...\n",
    "accuracy = sum(np.array(pred2) == np.array(label2).reshape(len(label2), 1)) / float(sift_class_nn_3.test_num)\n",
    "print(\"The accuracy of SIFT with Dense approach Nearest Neighbor model is \", float(accuracy*100))"
   ]
  },
  {
   "cell_type": "code",
   "execution_count": 5,
   "metadata": {},
   "outputs": [
    {
     "name": "stdout",
     "output_type": "stream",
     "text": [
      "('Feature Extraction time: ', 488.6765971183777, 'seconds')\n",
      "K Means fit done\n",
      "Clustering Done\n",
      "('Clustering time: ', 3384.5839500427246, 'seconds')\n",
      "('Total Training time: ', 3873.2605471611023, 'seconds')\n",
      "('Total Test time: ', 244.88360595703125, 'seconds')\n",
      "('The accuracy of SIFT with Dense approach Nearest Neighbor model is ', 55.2)\n"
     ]
    }
   ],
   "source": [
    "# Experiment 4: Dense Feature Extraction with Step size 10, radius 10 and cluster size 80\n",
    "sift_class_nn_5 = Sift_Classifier(np_array_name = 'Dense_SIFT_2.npy', step_size = 10, cluster_size = 80)\n",
    "pred2, label2 = sift_class_nn_5.train_test_with_sift_and_NN() # train_and_test(...\n",
    "accuracy = sum(np.array(pred2) == np.array(label2).reshape(len(label2), 1)) / float(sift_class_nn_5.test_num)\n",
    "print(\"The accuracy of SIFT with Dense approach Nearest Neighbor model is \", float(accuracy*100))"
   ]
  },
  {
   "cell_type": "code",
   "execution_count": 8,
   "metadata": {},
   "outputs": [
    {
     "name": "stdout",
     "output_type": "stream",
     "text": [
      "('Feature Extraction time: ', 237.9769480228424, 'seconds')\n",
      "K Means fit done\n",
      "Clustering Done\n",
      "('Clustering time: ', 2174.6421840190887, 'seconds')\n",
      "('Total Training time: ', 2412.619132041931, 'seconds')\n",
      "('Total Test time: ', 223.25892782211304, 'seconds')\n",
      "('The accuracy of SIFT with Dense approach Nearest Neighbor model is ', 43.4)\n"
     ]
    }
   ],
   "source": [
    "# Experiment 5: Dense Feature Extraction with Step size 10, radius 10 and cluster size 80\n",
    "sift_class_nn_6 = Sift_Classifier(np_array_name = 'Dense_SIFT_3.npy', step_size = 20, cluster_size = 200)\n",
    "pred2, label2 = sift_class_nn_6.train_test_with_sift_and_NN() # train_and_test(...\n",
    "accuracy = sum(np.array(pred2) == np.array(label2).reshape(len(label2), 1)) / float(sift_class_nn_6.test_num)\n",
    "print(\"The accuracy of SIFT with Dense approach Nearest Neighbor model is \", float(accuracy*100))"
   ]
  },
  {
   "cell_type": "markdown",
   "metadata": {
    "ein.tags": "worksheet-0",
    "slideshow": {
     "slide_type": "-"
    }
   },
   "source": [
    "## Problem 3: Bag of SIFT Representation + one-vs-all SVMs\n",
    "{20 points}\n",
    "The last task is to train one-vs-all linear SVMS to operate in the bag of SIFT\n",
    "feature space. Linear classifiers are one of the simplest possible learning\n",
    "models. The feature space is partitioned by a learned hyperplane and test cases\n",
    "are categorized based on which side of that hyperplane they fall on. Despite\n",
    "this model being far less expressive than the nearest neighbor classifier, it\n",
    "will often perform better.\n",
    "\n",
    "You do not have to implement the support vector machine. However, linear\n",
    "classifiers are inherently binary and we have a 15-way classification problem\n",
    "(the library has handled it for you). To decide which of 15 categories a test\n",
    "case belongs to, you will train 15 binary, one-vs-all SVMs. One-vs-all means\n",
    "that each classifier will be trained to recognize 'forest' vs 'non-forest',\n",
    "'kitchen' vs 'non-kitchen', etc. All 15 classifiers will be evaluated on each\n",
    "test case and the classifier which is most confidently positive \"wins\". E.g. if\n",
    "the 'kitchen' classifier returns a score of -0.2 (where 0 is on the decision\n",
    "boundary), and the 'forest' classifier returns a score of -0.3, and all of the\n",
    "other classifiers are even more negative, the test case would be classified as a\n",
    "kitchen even though none of the classifiers put the test case on the positive\n",
    "side of the decision boundary. When learning an SVM, you have a free parameter\n",
    "$\\lambda$ (lambda) which controls how strongly regularized the model is. Your\n",
    "accuracy will be very sensitive to $\\lambda$, so be sure to try many values.\n",
    "\n",
    "Indicate clearly the parameters you use along with the prediction accuracy on\n",
    "test set and time consumption.\n",
    "\n",
    "**Bonus {10 points}**: 10 points will be given to students whose accuracy\n",
    "  ranks top 3 in this homework. Don't cheat and don't train your model on\n",
    "  testing data, a separate testing dataset will be used to evaluate your model.\n",
    "\n",
    "**Hints**:\n",
    "- Use SVM in\n",
    "  [Sklearn](http://scikit-learn.org/stable/modules/classes.html#module-sklearn.svm)\n",
    "  (recommended) or\n",
    "  [OpenCV](https://docs.opencv.org/3.0-alpha/modules/ml/doc/support_vector_machines.html)\n",
    "  to do training and prediction."
   ]
  },
  {
   "cell_type": "code",
   "execution_count": 71,
   "metadata": {
    "autoscroll": false,
    "ein.tags": "worksheet-0",
    "slideshow": {
     "slide_type": "-"
    }
   },
   "outputs": [],
   "source": [
    "# Write your codes here\n",
    "from sklearn.svm import LinearSVC\n",
    "def svm_prediction(sift_classifier):\n",
    "    start_time = time.time()\n",
    "    train_data = sift_classifier.train_features\n",
    "    train_labels = sift_classifier.train_labels\n",
    "    test_data = sift_classifier.test_features\n",
    "    test_labels = sift_classifier.test_labels\n",
    "    \n",
    "    clf = LinearSVC(C=10.0, random_state=0, tol=2e-8)\n",
    "    clf.fit(train_data, train_labels)\n",
    "    train_time = time.time()\n",
    "    prediction = clf.predict(test_data)\n",
    "    test_time = time.time()\n",
    "    print(\"Train Time: \", train_time - start_time)\n",
    "    print(\"Test Time: \", test_time - train_time)\n",
    "    return prediction, np.array(test_labels)"
   ]
  },
  {
   "cell_type": "code",
   "execution_count": 73,
   "metadata": {},
   "outputs": [
    {
     "name": "stdout",
     "output_type": "stream",
     "text": [
      "('Train Time: ', 0.4815239906311035)\n",
      "('Test Time: ', 0.0004849433898925781)\n",
      "('The accuracy of SIFT with basic approach SVM model is ', 63.4)\n"
     ]
    }
   ],
   "source": [
    "pred3, label3 = svm_prediction(sift_class_nn_5) # train_and_test(...\n",
    "accuracy = sum(np.array(pred3) == label3) / float(sift_class_nn_5.test_num)\n",
    "print(\"The accuracy of SIFT with basic approach SVM model is \", float(accuracy*100))"
   ]
  },
  {
   "cell_type": "markdown",
   "metadata": {
    "ein.tags": "worksheet-0",
    "slideshow": {
     "slide_type": "-"
    }
   },
   "source": [
    "## Performance Report\n",
    "---\n",
    "{20 points}\n",
    "Please report the performance of the following combinations **in the given order**\n",
    "in terms of the time consumed and classification accuracy. Describe your algorithm,\n",
    "any decisions you made to write your algorithm in your particular way, and how\n",
    "different choices you made affect it. Compute and draw a (normalized) [confusion matrix](https://en.wikipedia.org/wiki/Confusion_matrix), and discuss\n",
    "where the method performs best and worse for each of the combination.\n",
    "Here is an [example](http://scikit-learn.org/stable/auto_examples/model_selection/plot_confusion_matrix.html#sphx-glr-auto-examples-model-selection-plot-confusion-matrix-py) of how to compute confusion matrix.\n",
    "\n",
    "\n",
    "1st: Tiny images representation and nearest neighbor classifier (accuracy of about 18-25%).<br>\n",
    "2nd: Bag of SIFT representation and nearest neighbor - classifier (accuracy of about 50-60%). <br>\n",
    "3rd: Bag of SIFT representation and linear SVM classifier (accuracy of about 60-70%). <br>"
   ]
  },
  {
   "cell_type": "markdown",
   "metadata": {},
   "source": [
    "**First combination:** <br>\n",
    "\n",
    "-- Time consumed and prediction accuracy\n",
    "\n",
    "-- Algorithm descriptions and discussions\n",
    "\n",
    "-- Confusion matrix observations\n",
    "\n",
    "**Second combination:** <br>\n",
    "\n",
    "-- Time consumed and prediction accuracy\n",
    "\n",
    "-- Algorithm descriptions and discussions\n",
    "\n",
    "-- Confusion matrix observations\n",
    "\n",
    "**Third combination:** <br>\n",
    "\n",
    "-- Time consumed and prediction accuracy\n",
    "\n",
    "-- Algorithm descriptions and discussions\n",
    "\n",
    "-- Confusion matrix observations"
   ]
  },
  {
   "cell_type": "markdown",
   "metadata": {},
   "source": [
    "**First Combination** <br>\n",
    "\n",
    " -- Time and Accuracy <br>\n",
    "    \n",
    "    Training time: 0.009185 seconds\n",
    "    Testing time : 1.151927 seconds\n",
    "    Accuracy     : 18.53%\n",
    "    \n",
    " -- Algorithm Description and discussion\n",
    "    \n",
    "    a. Method used: Five nearest neighbors\n",
    "    b. Dataset Processing: Flatten input image and treat vector as image feature\n",
    "    c. Training algorithm: \n",
    "         1. Form clusters using training examples using L2 distance\n",
    "         2. Details: \n",
    "             For every image find nearest cluster and assign to that particular cluster\n",
    "    d. Testing algorithm:\n",
    "         For every image:\n",
    "         1. Find nearest cluster and assign it's label to current test example\n",
    "-- Observation\n",
    "    \n",
    "    a. There was not difference in the accuracy by changing the number of clusters\n",
    "    b. There was no difference by considering more than one nearest example during testing\n",
    "-- Confusion matrix observation\n",
    "    \n",
    "    a. Model was able to understand street and suburb very well\n",
    "    b. Model is confusing tall building and industrial as office\n",
    "    \n",
    "**Second Combination** <br>\n",
    "\n",
    " -- Time and Accuracy <br>\n",
    "    \n",
    "    Training time: 0.009185 seconds\n",
    "    Testing time : 1.151927 seconds\n",
    "    Accuracy     : 55.2%\n",
    "    \n",
    " -- Algorithm Description and discussion\n",
    "    \n",
    "    a. Method used: One nearest neighbor and SIFT features\n",
    "    b. Dataset Processing: \n",
    "         1. Representing features and bag of sift representation\n",
    "         2. Extracting features using two methods\n",
    "            i.  Simple feature extraction - time consuming as considering all features\n",
    "            ii. Dense feature sampling - Uses step size to select selective features\n",
    "    c. Training algorithm:\n",
    "         1. Use features generated in step b.\n",
    "         2. Instead of using all the feature descriptors we use KMeans to cluster these\n",
    "            Features descriptors\n",
    "         3. Now, apply Nearest neighbors on clusters from c.2 which forms clusters having\n",
    "            similar feature descriptors\n",
    "    d. Testing algorithm:\n",
    "         For every image:\n",
    "         1. Extract features as mentioned in part b.\n",
    "         2. Using Kmeans (trained in part c.2) get the cluster feature information for current \n",
    "            feature descriptors\n",
    "         3. Now, find the nearest neighbor for current feature descriptor and assign it's label\n",
    "            to current image\n",
    "            \n",
    "-- Observation\n",
    "    \n",
    "    a. Significant improvement compare to 1st Combination\n",
    "    b. Increasing cluster size lead to improvement in accuracy\n",
    "    c. Decreasing step size in dense feature sampling slows down feature extraction significantly\n",
    "         1. step size = 5: Lead to memory out error and could not experiment\n",
    "         2. step size = 10: Lead to decrease in accuracy, because of less features being extracted\n",
    "-- Confusion matrix observation\n",
    "    \n",
    "    a. Current model is performing better than 1st model\n",
    "    b. Labels are predicted correctly most of the time, but sometimes model gets confuse\n",
    "       between similar looking objects such as Kitchen and Living Room where Sofa can be confused as \n",
    "       Kitchen platform\n",
    "    c. This proves that extracted features are relevant and lead to accurate prediction\n",
    "    \n",
    "**Third Combination** <br>\n",
    "\n",
    " -- Time and Accuracy <br>\n",
    "    \n",
    "    Training time: 0.481524 seconds \n",
    "    Testing time : 0.000484 seconds\n",
    "    Accuracy     : 63.4%\n",
    "    \n",
    " -- Algorithm Description and discussion\n",
    "    \n",
    "    a. Method used: SVM and SIFT features\n",
    "    b. Dataset Processing: \n",
    "         1. Representing features and bag of sift representation\n",
    "         2. Extracting features using two methods\n",
    "            i.  Simple feature extraction - time consuming as considering all features\n",
    "            ii. Dense feature sampling - Uses step size to select selective features\n",
    "         3. Use KMeans algorithm to form feature as in 2nd Combination\n",
    "    c. Training algorithm:\n",
    "         1. Use features generated in step b\n",
    "         2. Use Linear SVC for classifying extracted features\n",
    "    d. Testing algorithm:\n",
    "         For every image:\n",
    "         1. Extract features as mentioned in step b.\n",
    "         2. Call prediction on trained SVM model for extracted features\n",
    "-- Observation\n",
    "    \n",
    "    a. Drastic improvement by switcing to SVM\n",
    "    b. Learning rate and Regularization term tuning have impact of accuracy\n",
    "    c. Best accuracy was acheived on C=10.0 and Learning rate=2e-8\n",
    "-- Confusion matrix observation\n",
    "    \n",
    "    a. Model is able to classify between objects very well\n",
    "    b. Model is not confusing with many of the objects\n",
    "    c. Model is still somewhat considering kitchen as living room (more firmly than 2nd combination now)\n",
    "       But, overall improved in other areas.\n"
   ]
  },
  {
   "cell_type": "code",
   "execution_count": 76,
   "metadata": {
    "scrolled": false
   },
   "outputs": [
    {
     "name": "stderr",
     "output_type": "stream",
     "text": [
      "/home/bhushan/anaconda3/envs/cv-course/lib/python2.7/site-packages/ipykernel_launcher.py:15: RuntimeWarning: invalid value encountered in divide\n",
      "  from ipykernel import kernelapp as app\n"
     ]
    },
    {
     "data": {
      "image/png": "[encoded data removed]",
      "text/plain": [
       "<Figure size 864x864 with 2 Axes>"
      ]
     },
     "metadata": {
      "needs_background": "light"
     },
     "output_type": "display_data"
    },
    {
     "data": {
      "image/png": "[encoded data removed]",
      "text/plain": [
       "<Figure size 864x864 with 2 Axes>"
      ]
     },
     "metadata": {
      "needs_background": "light"
     },
     "output_type": "display_data"
    },
    {
     "data": {
      "image/png": "[encoded data removed]",
      "text/plain": [
       "<Figure size 864x864 with 2 Axes>"
      ]
     },
     "metadata": {
      "needs_background": "light"
     },
     "output_type": "display_data"
    }
   ],
   "source": [
    "import matplotlib.pyplot as plt\n",
    "from sklearn.metrics import confusion_matrix\n",
    "# import seaborn as sn\n",
    "\n",
    "def plot_confusion_matrix(cm, classes,\n",
    "                          normalize=False,\n",
    "                          title='Confusion matrix',\n",
    "                          cmap=plt.cm.Blues):\n",
    "    \"\"\"\n",
    "    This function prints and plots the confusion matrix.\n",
    "    Normalization can be applied by setting `normalize=True`.\n",
    "    \"\"\"\n",
    "    # Reference: http://scikit-learn.org/stable/auto_examples/model_selection/plot_confusion_matrix.html\n",
    "    if normalize:\n",
    "        cm = cm.astype('float') / cm.sum(axis=1)[:, np.newaxis]\n",
    "    plt.imshow(cm, interpolation='nearest', cmap=cmap)\n",
    "    plt.title(title)\n",
    "    plt.colorbar()\n",
    "    tick = np.arange(len(classes))\n",
    "    plt.xticks(tick, classes, rotation=50)\n",
    "    plt.yticks(tick, classes)\n",
    "\n",
    "    \n",
    "c_names = [name[11:] for name in glob.glob('data/train/*')]\n",
    "    \n",
    "#First combination:\n",
    "# Confusion matrix\n",
    "cm1 = confusion_matrix(pred1, label1)\n",
    "plt.figure(figsize=(12,12))\n",
    "plot_confusion_matrix(cm1, c_names, normalize=True)\n",
    "plt.show()\n",
    "\n",
    "#Second combination:\n",
    "# Confusion matrix\n",
    "cm2 = confusion_matrix(pred2, label2)\n",
    "plt.figure(figsize=(12,12))\n",
    "plot_confusion_matrix(cm2, c_names, normalize=True)\n",
    "plt.show()\n",
    "\n",
    "#Third combination:\n",
    "# Confusion matrix\n",
    "cm3 = confusion_matrix(pred3, label3)\n",
    "plt.figure(figsize=(12,12))\n",
    "plot_confusion_matrix(cm3, c_names, normalize=True)\n",
    "plt.show()"
   ]
  },
  {
   "cell_type": "markdown",
   "metadata": {},
   "source": [
    "## Submission guidelines\n",
    "---\n",
    "Extract the downloaded .zip file to a folder of your preference. The input and output paths are predefined and **DO NOT** change them. The image read and write functions are already written for you. \n",
    "\n",
    "When submitting your .zip file through blackboard, please <br> \n",
    "-- name your .zip file as Surname_Givenname_SBUID (example: Trump_Donald_11113456). <br>\n",
    "-- DO NOT change the folder structre, please just fill in the blanks. <br>\n",
    "\n",
    "You are encouraged to make posts and answer questions on Piazza. Due to the amount of emails I receive from past years, it is unfortunate that I won't be able to reply all your emails. Please ask questions on Piazza and send emails only when it is private.\n",
    "\n",
    "To encourage you to answer questions on piazza, the three persons answering the most questions will be awarded extra 5 points at the end of the semester.\n",
    "\n",
    "If you alter the folder strucutres, the grading of your homework will be significantly delayed and possibly penalized. And I **WILL NOT** reply to any email regarding this matter.\n",
    "\n",
    "Be aware that your codes will undergo plagiarism checker both vertically and horizontally. Please do your own work.\n",
    "\n",
    "Late submission penalty: <br>\n",
    "There will be a 10% penalty per day for late submission. However, you will have 3 days throughout the whole semester to submit late without penalty. Note that the grace period is calculated by days instead of hours. If you submit the homework one minute after the deadline, one late day will be counted. Likewise, if you submit one minute after the deadline, the 10% penaly will be imposed if not using the grace period. All late penalties incurred will be applied to your scores at the end of the semester.\n",
    "\n",
    "Some important things to note: <br>\n",
    "A correct pipeline for your submitted folder structure: <br>\n",
    "1) Download the .zip file from blackboard and unzip it (e.g. CSE527-HW1-Fall18.zip) <br>\n",
    "2) The unzipped folder should have name like CSE527-HW1-Fall18, rename it to Surname_Givenname_SBUID <br>\n",
    "3) Write your codes in the given .ipynb file <br>\n",
    "4) Save the visual outputs in the .ipynb file <br>\n",
    "5) Rezip your Surname_Givenname_SBUID folder and submit <br>\n",
    "\n",
    "**2 credits will be deducted** from HW2 and onwards if:\n",
    "1) The unzipped folder still have name like CSE527-HW1-Fall18 <br>\n",
    "2) There is a nested folder named CSE527-HW1-Fall18 under your Surname_Givenname_SBUID folder <br>\n",
    "3) You zipped sub-folders and .ipynb directly without providing a root folder called Surname_Givenname_SBUID <br>\n",
    "4) There are more than one .ipynb file under your folder (people who did this didn't receive a score for HW1) <br>\n",
    "5) The naming didn't conform to Surname_Givenname_SBUID <br>\n",
    "6) You didn't save the visual outputs inside your .ipynb file <br>"
   ]
  }
 ],
 "metadata": {
  "anaconda-cloud": {},
  "kernelspec": {
   "display_name": "Python 2",
   "language": "python",
   "name": "python2"
  },
  "language_info": {
   "codemirror_mode": {
    "name": "ipython",
    "version": 2
   },
   "file_extension": ".py",
   "mimetype": "text/x-python",
   "name": "python",
   "nbconvert_exporter": "python",
   "pygments_lexer": "ipython2",
   "version": "2.7.15"
  },
  "name": "HW3.ipynb"
 },
 "nbformat": 4,
 "nbformat_minor": 2
}
